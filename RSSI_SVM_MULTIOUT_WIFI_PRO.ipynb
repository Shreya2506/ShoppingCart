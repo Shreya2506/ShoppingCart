{
  "nbformat": 4,
  "nbformat_minor": 0,
  "metadata": {
    "colab": {
      "name": "RSSI_SVM_MULTIOUT_WIFI_PRO.ipynb",
      "provenance": [],
      "collapsed_sections": [],
      "include_colab_link": true
    },
    "kernelspec": {
      "name": "python3",
      "display_name": "Python 3"
    },
    "language_info": {
      "name": "python"
    },
    "accelerator": "GPU"
  },
  "cells": [
    {
      "cell_type": "markdown",
      "metadata": {
        "id": "view-in-github",
        "colab_type": "text"
      },
      "source": [
        "<a href=\"https://colab.research.google.com/github/Shreya2506/ShoppingCart/blob/master/RSSI_SVM_MULTIOUT_WIFI_PRO.ipynb\" target=\"_parent\"><img src=\"https://colab.research.google.com/assets/colab-badge.svg\" alt=\"Open In Colab\"/></a>"
      ]
    },
    {
      "cell_type": "markdown",
      "metadata": {
        "id": "cOEevkz0QTqq"
      },
      "source": [
        "# GPU Settings\n",
        "\n",
        "*   Test Whether GPU is running\n",
        "*   Which GPU are we using? \n"
      ]
    },
    {
      "cell_type": "code",
      "metadata": {
        "id": "kuOcg1fCQQhx"
      },
      "source": [
        "import tensorflow as tf\n",
        "tf.test.gpu_device_name()"
      ],
      "execution_count": null,
      "outputs": []
    },
    {
      "cell_type": "code",
      "metadata": {
        "id": "byqSE-jsQlde"
      },
      "source": [
        "from tensorflow.python.client import device_lib\n",
        "device_lib.list_local_devices()"
      ],
      "execution_count": null,
      "outputs": []
    },
    {
      "cell_type": "code",
      "metadata": {
        "id": "V2r4VHy7QsRm"
      },
      "source": [
        "gpu_info = !nvidia-smi\n",
        "gpu_info = '\\n'.join(gpu_info)\n",
        "if gpu_info.find('failed') >= 0:\n",
        "  print('Select the Runtime > \"Change runtime type\" menu to enable a GPU accelerator, ')\n",
        "  print('and then re-execute this cell.')\n",
        "else:\n",
        "  print(gpu_info)"
      ],
      "execution_count": null,
      "outputs": []
    },
    {
      "cell_type": "markdown",
      "metadata": {
        "id": "g6DJl_pJQ1q5"
      },
      "source": [
        "*   Check the runtime"
      ]
    },
    {
      "cell_type": "code",
      "metadata": {
        "id": "YWipOWTiQ2Lc"
      },
      "source": [
        "from psutil import virtual_memory\n",
        "ram_gb = virtual_memory().total / 1e9\n",
        "print('Your runtime has {:.1f} gigabytes of available RAM\\n'.format(ram_gb))\n",
        "\n",
        "if ram_gb < 20:\n",
        "  print('To enable a high-RAM runtime, select the Runtime > \"Change runtime type\"')\n",
        "  print('menu, and then select High-RAM in the Runtime shape dropdown. Then, ')\n",
        "  print('re-execute this cell.')\n",
        "else:\n",
        "  print('You are using a high-RAM runtime!')"
      ],
      "execution_count": null,
      "outputs": []
    },
    {
      "cell_type": "markdown",
      "metadata": {
        "id": "ms6vyJOORpYQ"
      },
      "source": [
        "# The SVR code for Wifi localization"
      ]
    },
    {
      "cell_type": "markdown",
      "metadata": {
        "id": "jooJc8-9RrhL"
      },
      "source": [
        "Importing Libraries\n",
        "---"
      ]
    },
    {
      "cell_type": "code",
      "metadata": {
        "id": "cf-qVRktRqQJ"
      },
      "source": [
        "from pathlib import Path\n",
        "from tensorflow import keras\n",
        "from PIL import Image as im\n",
        "\n",
        "from sklearn.model_selection import train_test_split\n",
        "from sklearn.metrics import mean_squared_error\n",
        "\n",
        "from keras.models import Sequential\n",
        "from sklearn import svm\n",
        "from sklearn.multioutput import MultiOutputRegressor\n",
        "from sklearn.preprocessing import StandardScaler\n",
        "from sklearn.model_selection import GridSearchCV\n",
        "from sklearn.svm import SVR\n",
        "from sklearn.pipeline import make_pipeline\n",
        "from sklearn.multioutput import MultiOutputRegressor\n",
        "from sklearn.svm import SVR\n",
        "from sklearn.model_selection import GridSearchCV\n",
        "from sklearn.pipeline import Pipeline\n",
        "from sklearn.model_selection import cross_val_score\n",
        "from sklearn.model_selection import train_test_split\n",
        "from sklearn.model_selection import cross_validate\n",
        "from sklearn.preprocessing import MinMaxScaler\n",
        "\n",
        "\n",
        "import matplotlib\n",
        "import matplotlib.pyplot as plt\n",
        "import pandas as pd\n",
        "import numpy as npC\n",
        "import os\n",
        "import seaborn as sns\n",
        "import numpy as np"
      ],
      "execution_count": null,
      "outputs": []
    },
    {
      "cell_type": "code",
      "metadata": {
        "id": "9nnWFBJwRv5x"
      },
      "source": [
        "from google.colab import drive\n",
        "drive.mount('/content/drive')"
      ],
      "execution_count": null,
      "outputs": []
    },
    {
      "cell_type": "markdown",
      "metadata": {
        "id": "EexByciyR3UO"
      },
      "source": [
        "\n",
        "Data Import from CSV File\n",
        "---"
      ]
    },
    {
      "cell_type": "code",
      "metadata": {
        "id": "wcIBhCqWR4IK"
      },
      "source": [
        "Data = pd.read_csv('/content/drive/MyDrive/workfiles_Kaggle/5da138364db8ce0c98bc00f1/F1/ExcelFiles/WIFI_RSSMap/Mean/RSSI_final_v3_ForMulti.csv')"
      ],
      "execution_count": null,
      "outputs": []
    },
    {
      "cell_type": "markdown",
      "metadata": {
        "id": "YcdtMT8MR7Us"
      },
      "source": [
        "Data Preparation\n",
        "---\n"
      ]
    },
    {
      "cell_type": "code",
      "metadata": {
        "id": "VP2-CqPIR9hz"
      },
      "source": [
        "\"\"\"\n",
        "# Printing the Data shape\n",
        "\"\"\"\n",
        "print(Data.shape)\n",
        "Data.info()\n",
        "\n",
        "\"\"\"\n",
        "# Printing the names of columns\n",
        "\"\"\"\n",
        "for col_name in Data.columns: \n",
        "    print(col_name)\n",
        "print(f'############')"
      ],
      "execution_count": null,
      "outputs": []
    },
    {
      "cell_type": "code",
      "metadata": {
        "id": "8jepla0hSAQH"
      },
      "source": [
        "\"\"\"\n",
        "# Data = features\n",
        "\"\"\"\n",
        "\n",
        "Data = Data.drop('Time', axis=1)\n",
        "Data = Data.drop('TimeStamp', axis=1)\n",
        "Data = Data.drop('Location', axis=1)\n",
        "Data = Data.drop('x', axis=1)\n",
        "Data = Data.drop('y', axis=1)\n",
        "\n",
        "\n",
        "Data_x = np.array(Data[\"x.1\"])\n",
        "unique_elements, counts_elements = np.unique(Data_x, return_counts=True)\n",
        "array = np.asarray((unique_elements, counts_elements))\n",
        "array = array.transpose()\n",
        "# print(array)\n",
        "index = 0\n",
        "for col in array:\n",
        "    if array[index][1] > 1:\n",
        "        print(array[index][0])\n",
        "\n",
        "        index = index + 1\n",
        "    else:\n",
        "        index = index + 1\n",
        "print(f'The values in location are unique')\n",
        "print(Data.shape)\n",
        "print(Data.count)\n"
      ],
      "execution_count": null,
      "outputs": []
    },
    {
      "cell_type": "code",
      "metadata": {
        "id": "8i_bRBmYPciw"
      },
      "source": [
        "\"\"\"\n",
        "# X = Features\n",
        "# y = Location to be predicted (contains 2 labels 'x' and 'y')\n",
        "\"\"\"\n",
        "X = Data\n",
        "X = X.drop('x.1', axis=1)\n",
        "X = X.drop('y.1', axis=1)\n",
        "print(X.shape)\n",
        "y = Data[Data.columns[-2:]]\n",
        "print(y.shape)\n"
      ],
      "execution_count": null,
      "outputs": []
    },
    {
      "cell_type": "code",
      "metadata": {
        "id": "7b3cCDUSzhak"
      },
      "source": [
        "\"\"\"\n",
        "Converting to nparray\n",
        "\"\"\"\n",
        "X = np.array(X)\n",
        "y = np.array(y)"
      ],
      "execution_count": null,
      "outputs": []
    },
    {
      "cell_type": "code",
      "metadata": {
        "id": "azHr7EWqSFsS"
      },
      "source": [
        "\"\"\"\n",
        "# Feature scaling\n",
        "\"\"\"\n",
        "sc_X = StandardScaler()\n",
        "sc_Y = StandardScaler()\n",
        "X = sc_X.fit_transform(X)\n",
        "y = sc_Y.fit_transform(y)"
      ],
      "execution_count": null,
      "outputs": []
    },
    {
      "cell_type": "code",
      "metadata": {
        "id": "jQQbDKQcsvOL"
      },
      "source": [
        "\"\"\"\n",
        "# Normalization\n",
        "\"\"\"\n",
        "# create scaler\n",
        "scaler = MinMaxScaler()\n",
        "X = scaler.fit_transform(X)\n",
        "y = scaler.fit_transform(y)"
      ],
      "execution_count": null,
      "outputs": []
    },
    {
      "cell_type": "code",
      "metadata": {
        "id": "wEE9DI8TxbTn"
      },
      "source": [
        "from sklearn.preprocessing import RobustScaler\n",
        "\n",
        "transx = RobustScaler()\n",
        "transy = RobustScaler()\n",
        "X = transx.fit_transform(X)\n",
        "y = transy.fit_transform(y)"
      ],
      "execution_count": null,
      "outputs": []
    },
    {
      "cell_type": "code",
      "metadata": {
        "id": "z1LWZyG9Pnpc"
      },
      "source": [
        "\"\"\"\n",
        "# Splitting into Train and Test data\n",
        "\"\"\"\n",
        "X_train, X_test, y_train, y_test = train_test_split(X, y, test_size=0.20, random_state=42)"
      ],
      "execution_count": null,
      "outputs": []
    },
    {
      "cell_type": "markdown",
      "metadata": {
        "id": "HDMZGrNGSFM6"
      },
      "source": [
        "Model\n",
        "---"
      ]
    },
    {
      "cell_type": "code",
      "metadata": {
        "id": "HOgbi-4HxO99"
      },
      "source": [
        "\"\"\"\n",
        "# Creating a pipeline to implement GridSearchCV for multiout regressor.\n",
        "\"\"\"\n",
        "pipe_svr = Pipeline([\n",
        "        ('reg', MultiOutputRegressor(SVR())\n",
        "        )])\n",
        "\n",
        "grid_param_svr = {\n",
        "    'reg__estimator__C': [0.1,1,10,100,1000,10000],\n",
        "    'reg__estimator__gamma': [1, 0.1, 0.01, 0.001, 0.0001],\n",
        "    'reg__estimator__epsilon': [0.01,0.02,0.06,0.07,0.08,0.09,0.1,0.5,0.03]}\n",
        "\n",
        "gs_svr = (GridSearchCV(estimator=pipe_svr, \n",
        "                      param_grid=grid_param_svr, \n",
        "                      scoring = 'neg_mean_squared_error',\n",
        "                      cv = 5,\n",
        "                      verbose = 1,\n",
        "                      n_jobs = -1))\n",
        "\n",
        "gs_svr = gs_svr.fit(X_train,y_train)\n",
        "gs_svr.best_estimator_ "
      ],
      "execution_count": null,
      "outputs": []
    },
    {
      "cell_type": "markdown",
      "metadata": {
        "id": "UiYWmVempMkP"
      },
      "source": [
        "Tesing\n",
        "---"
      ]
    },
    {
      "cell_type": "code",
      "metadata": {
        "id": "wssKwniMZnFT"
      },
      "source": [
        "\"\"\"\n",
        "# Testing the models using CV=5\n",
        "\"\"\"\n",
        "\n",
        "model = svm.SVR(kernel='rbf', C=100.0, gamma=0.0001, epsilon= 0.01)\n",
        "wrapper = MultiOutputRegressor(model)\n",
        "scores = cross_validate(wrapper, X_train, y_train, cv=5, scoring='neg_mean_squared_error')\n",
        "print(scores['test_score'].mean())\n",
        "\n",
        "model2 = svm.SVR(kernel='rbf', C=100.0, gamma=0.0001, epsilon= 0.02)\n",
        "wrapper2 = MultiOutputRegressor(model2)\n",
        "scores2 = cross_validate(wrapper2, X_train, y_train, cv=5, scoring='neg_mean_squared_error')\n",
        "print(scores2['test_score'].mean())\n",
        "\n",
        "model3 = svm.SVR(kernel='rbf', C=100.0, gamma=0.0001, epsilon= 0.03)\n",
        "wrapper3 = MultiOutputRegressor(model3)\n",
        "scores3 = cross_validate(wrapper3, X_train, y_train, cv=5, scoring='neg_mean_squared_error')\n",
        "print(scores2['test_score'].mean())\n",
        "\n",
        "model4 = svm.SVR(kernel='rbf', C=100.0, gamma=0.0001, epsilon= 0.04)\n",
        "wrapper4 = MultiOutputRegressor(model4)\n",
        "scores4 = cross_validate(wrapper4, X_train, y_train, cv=5, scoring='neg_mean_squared_error')\n",
        "print(scores4['test_score'].mean())\n",
        "\n",
        "model5 = svm.SVR(kernel='rbf', C=100.0, gamma=0.0001, epsilon=0.05)\n",
        "wrapper5 = MultiOutputRegressor(model5)\n",
        "scores5 = cross_validate(wrapper5, X_train, y_train, cv=5, scoring='neg_mean_squared_error')\n",
        "print(scores5['test_score'].mean())"
      ],
      "execution_count": null,
      "outputs": []
    },
    {
      "cell_type": "code",
      "metadata": {
        "id": "fq5Gzi16xsC5"
      },
      "source": [
        "\"\"\"\n",
        "# Predictions of different models (For constructing graphs)\n",
        "\"\"\"\n",
        "model = svm.SVR(kernel='rbf', C=1.0, gamma=0.0001, epsilon= 0.03)\n",
        "wrapper = MultiOutputRegressor(model)\n",
        "wrapper.fit(X_train, y_train)\n",
        "predictions_e_1 = wrapper.predict(X_test)\n",
        "\n",
        "model2 = svm.SVR(kernel='rbf', C=10.0, gamma=0.0001, epsilon= 0.03)\n",
        "wrapper2 = MultiOutputRegressor(model2)\n",
        "wrapper2.fit(X_train, y_train)\n",
        "predictions_e_2 = wrapper2.predict(X_test)\n",
        "\n",
        "model3 = svm.SVR(kernel='rbf', C=100.0, gamma=0.0001, epsilon= 0.03)\n",
        "wrapper3 = MultiOutputRegressor(model3)\n",
        "wrapper3.fit(X_train, y_train)\n",
        "predictions_e_3 = wrapper3.predict(X_test)\n",
        "\n",
        "model4 = svm.SVR(kernel='rbf', C=1000.0, gamma=0.0001, epsilon= 0.03)\n",
        "wrapper4 = MultiOutputRegressor(model4)\n",
        "wrapper4.fit(X_train, y_train)\n",
        "predictions_e_4 = wrapper4.predict(X_test)\n",
        "\n",
        "model5 = svm.SVR(kernel='rbf', C=10000.0, gamma=0.0001, epsilon=0.03)\n",
        "wrapper5 = MultiOutputRegressor(model5)\n",
        "wrapper5.fit(X_train, y_train)\n",
        "predictions_e_5 = wrapper5.predict(X_test)\n"
      ],
      "execution_count": null,
      "outputs": []
    },
    {
      "cell_type": "code",
      "metadata": {
        "id": "RMDvTzKXsdMw"
      },
      "source": [
        "\"\"\"\n",
        "# Predictions of different models (For constructing graphs)\n",
        "\"\"\"\n",
        "\n",
        "model6 = svm.SVR(kernel='rbf', C=10.0, gamma=0.0001, epsilon= 0.06)\n",
        "wrapper6 = MultiOutputRegressor(model6)\n",
        "wrapper6.fit(X_train, y_train)\n",
        "predictions_e_6 = wrapper6.predict(X_test)\n",
        "\n",
        "model7 = svm.SVR(kernel='rbf', C=10.0, gamma=0.0001, epsilon= 0.07)\n",
        "wrapper7 = MultiOutputRegressor(model7)\n",
        "wrapper7.fit(X_train, y_train)\n",
        "predictions_e_7 = wrapper7.predict(X_test)\n",
        "\n",
        "model8 = svm.SVR(kernel='rbf', C=10.0, gamma=0.0001, epsilon= 0.08)\n",
        "wrapper8 = MultiOutputRegressor(model8)\n",
        "wrapper8.fit(X_train, y_train)\n",
        "predictions_e_8 = wrapper8.predict(X_test)\n",
        "\n",
        "model9 = svm.SVR(kernel='rbf', C=10.0, gamma=0.0001, epsilon= 0.09)\n",
        "wrapper9 = MultiOutputRegressor(model9)\n",
        "wrapper9.fit(X_train, y_train)\n",
        "predictions_e_9 = wrapper9.predict(X_test)\n",
        "\n",
        "model10 = svm.SVR(kernel='rbf', C=10.0, gamma=0.0001, epsilon=0.1)\n",
        "wrapper10 = MultiOutputRegressor(model10)\n",
        "wrapper10.fit(X_train, y_train)\n",
        "predictions_e_10 = wrapper10.predict(X_test)"
      ],
      "execution_count": null,
      "outputs": []
    },
    {
      "cell_type": "markdown",
      "metadata": {
        "id": "ErCg6wy9Sbvo"
      },
      "source": [
        "Save Models\n",
        "---"
      ]
    },
    {
      "cell_type": "code",
      "metadata": {
        "id": "oOJEsaodSfd8"
      },
      "source": [
        "# Save the model\n",
        "import os.path\n",
        "\n",
        "if os.path.isfile('/content/drive/MyDrive/workfiles_Kaggle/5da138364db8ce0c98bc00f1/F1/ExcelFiles/WIFI_RSSMap/PickledObjects/model_100.pkl') is False:\n",
        "  best_model.save('/content/drive/MyDrive/workfiles_Kaggle/5da138364db8ce0c98bc00f1/F1/ExcelFiles/WIFI_RSSMap/PickledObjects/model_100.pkl')"
      ],
      "execution_count": null,
      "outputs": []
    },
    {
      "cell_type": "markdown",
      "metadata": {
        "id": "TnLc-rADSw1X"
      },
      "source": [
        "Result\n",
        "---"
      ]
    },
    {
      "cell_type": "code",
      "metadata": {
        "id": "X84XCu7h0LG8"
      },
      "source": [
        "\"\"\"\n",
        "# Inversing the Transformed data\n",
        "\"\"\"\n",
        "predictions_e_1 = sc_Y.inverse_transform(predictions_e_1)\n",
        "predictions_e_2 = sc_Y.inverse_transform(predictions_e_2)\n",
        "predictions_e_3 = sc_Y.inverse_transform(predictions_e_3)\n",
        "predictions_e_4 = sc_Y.inverse_transform(predictions_e_4)\n",
        "predictions_e_5 = sc_Y.inverse_transform(predictions_e_5)"
      ],
      "execution_count": null,
      "outputs": []
    },
    {
      "cell_type": "code",
      "metadata": {
        "id": "H8GPLHXDs-j_"
      },
      "source": [
        "predictions_e_6 = sc_Y.inverse_transform(predictions_e_6)\n",
        "predictions_e_7 = sc_Y.inverse_transform(predictions_e_7)\n",
        "predictions_e_8 = sc_Y.inverse_transform(predictions_e_8)\n",
        "predictions_e_9 = sc_Y.inverse_transform(predictions_e_9)\n",
        "predictions_e_10 = sc_Y.inverse_transform(predictions_e_10)"
      ],
      "execution_count": null,
      "outputs": []
    },
    {
      "cell_type": "code",
      "metadata": {
        "id": "OW_GkhZBuCbf"
      },
      "source": [
        "predictions_e_2 = scaler.inverse_transform(predictions_e_2)\n",
        "y_test = scaler.inverse_transform(y)"
      ],
      "execution_count": null,
      "outputs": []
    },
    {
      "cell_type": "code",
      "metadata": {
        "id": "843HS5j6yFS2"
      },
      "source": [
        "predictions_e_2 = transy.inverse_transform(predictions_e_2)\n",
        "y_test = transy.inverse_transform(y_test)"
      ],
      "execution_count": null,
      "outputs": []
    },
    {
      "cell_type": "code",
      "metadata": {
        "id": "bSJxwGi7Pmiu"
      },
      "source": [
        "\"\"\"\n",
        "# Inversing the Transformed data\n",
        "\"\"\"\n",
        "y_test = sc_Y.inverse_transform(y_test)"
      ],
      "execution_count": null,
      "outputs": []
    },
    {
      "cell_type": "code",
      "metadata": {
        "id": "61jWS6f1m4nR"
      },
      "source": [
        "\"\"\"\n",
        "# Printing the result side by side\n",
        "\"\"\"\n",
        "# result = np.concatenate([y_test,predictions_e_2], axis=1)\n",
        "# print(result)\n",
        "\n",
        "\"\"\"\n",
        "# Calculating MSE\n",
        "\"\"\"\n",
        "mse = mean_squared_error(y_test,predictions_e_2)\n",
        "print(mse)\n"
      ],
      "execution_count": null,
      "outputs": []
    },
    {
      "cell_type": "code",
      "metadata": {
        "id": "lfLwRAAD0lVs"
      },
      "source": [
        "mse1 = mean_squared_error(y_test,predictions_e_1)\n",
        "print(mse1)\n",
        "mse2 = mean_squared_error(y_test,predictions_e_2)\n",
        "print(mse2)\n",
        "mse3 = mean_squared_error(y_test,predictions_e_3)\n",
        "print(mse3)\n",
        "mse4 = mean_squared_error(y_test,predictions_e_4)\n",
        "print(mse4)\n",
        "mse5 = mean_squared_error(y_test,predictions_e_5)\n",
        "print(mse5)"
      ],
      "execution_count": null,
      "outputs": []
    },
    {
      "cell_type": "code",
      "metadata": {
        "id": "NO2_3ihXtFMh"
      },
      "source": [
        "mse6 = mean_squared_error(y_test,predictions_e_6)\n",
        "print(mse6)\n",
        "mse7 = mean_squared_error(y_test,predictions_e_7)\n",
        "print(mse7)\n",
        "mse8 = mean_squared_error(y_test,predictions_e_8)\n",
        "print(mse8)\n",
        "mse9 = mean_squared_error(y_test,predictions_e_9)\n",
        "print(mse9)\n",
        "mse10 = mean_squared_error(y_test,predictions_e_10)\n",
        "print(mse10)"
      ],
      "execution_count": null,
      "outputs": []
    },
    {
      "cell_type": "markdown",
      "metadata": {
        "id": "dg7BeU27GSZV"
      },
      "source": [
        "Visuals\n",
        "---"
      ]
    },
    {
      "cell_type": "code",
      "metadata": {
        "id": "lp-l9tu4Gbpw"
      },
      "source": [
        "# importing the required module\n",
        "import matplotlib.pyplot as plt\n",
        "  \n",
        "# y axis values\n",
        "y = [mse1,mse2,mse3,mse4,mse5]\n",
        "# y = y_test[:,1]\n",
        "# y1 = predictions_e_1[:,1]\n",
        "\n",
        "# corresponding x axis values\n",
        "x = [1,10,100,1000,10000]\n",
        "# x = range(0, 188)\n",
        "\n",
        "# plotting the points \n",
        "# s=3\n",
        "plt.plot(x, y,color=\"red\", marker = 'o')\n",
        "# plt.scatter(x, y1,color=\"blue\",s=s)  \n",
        "\n",
        "# naming the x axis\n",
        "plt.xlabel('Hyperparameter C value')\n",
        "# naming the y axis\n",
        "plt.ylabel('Mean squared error')\n",
        "\n",
        "plt.text(4000, 7.5, \"gamma = 0.0001, epsilon = 0.03\") \n",
        "plt.title(\"The effect of Changing the value of C on mean squared error\")\n",
        "plt.grid()\n",
        "\n",
        "# function to show the plot\n",
        "plt.show()\n"
      ],
      "execution_count": null,
      "outputs": []
    },
    {
      "cell_type": "code",
      "metadata": {
        "id": "v-uteLxY-VXa"
      },
      "source": [
        "fig.savefig('/content/drive/MyDrive/workfiles_Kaggle/5da138364db8ce0c98bc00f1/F1/ExcelFiles/WIFI_RSSMap/Figures/Changinggamma')"
      ],
      "execution_count": null,
      "outputs": []
    },
    {
      "cell_type": "code",
      "metadata": {
        "id": "GFAcfuQOw6ot"
      },
      "source": [
        "# Define plot space\n",
        "fig, ax = plt.subplots(figsize=(5, 6))\n",
        "\n",
        "# Define x and y axes\n",
        "ax.plot(x, \n",
        "        y,\n",
        "        marker = 'o')\n",
        "\n",
        "# Set plot title and axes labels\n",
        "ax.set(title = \"The effect of Changing the value of C on mean squared error\",\n",
        "       xlabel = \"Hyperparameter C value\",\n",
        "       ylabel = \"Mean squared error\")\n",
        "plt.text(7000, 8, \"Gamma = 0.0001, Epsilon = 0.05\")\n",
        "plt.show()"
      ],
      "execution_count": null,
      "outputs": []
    }
  ]
}